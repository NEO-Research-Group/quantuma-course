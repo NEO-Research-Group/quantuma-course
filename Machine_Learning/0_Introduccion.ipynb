{
  "nbformat": 4,
  "nbformat_minor": 0,
  "metadata": {
    "colab": {
      "provenance": []
    },
    "kernelspec": {
      "name": "python3",
      "display_name": "Python 3"
    },
    "language_info": {
      "name": "python"
    }
  },
  "cells": [
    {
      "cell_type": "markdown",
      "source": [
        "**Exercise on Regression Using Economic Data of Spain**\n",
        "\n",
        "> The Regression You can Make:\n",
        "\n",
        "        You can perform regression by setting the variables city, serie and year in the file main.py using one of the values indicated below for each of these variables.\n",
        "\n",
        "> The Frameworks You Can Pick\n",
        "\n",
        "        You can choose either linear regression using SciekitLearn or TensorFlow.\n",
        "\n",
        "> The Years You Can Pick\n",
        "\n",
        "      You can choose any year from 2003 to 2017.\n",
        "\n",
        "> The Cities You Can Pick:\n",
        "\n",
        "        A Coruña, Albacete, Alicante, Almería, Álava, Asturias, Ávila, Badajoz, Barcelona, Vizcaya, Burgos, Cáceres, Cádiz, Cantabria, Castellón, Ceuta, Ciudad Real, Córdoba, Cuenca, Guipúzcoa, Girona, Granada, Guadalajara, Huelva, Huesca, Baleares, Jaén, La Rioja, Las Palmas, León, Lleida, Lugo, Madrid, Málaga, Melilla, Murcia, Navarra, Ourense, Palencia, Pontevedra, Salamanca, Santa Cruz de Tenerife, Segovia, Sevilla, Soria, Tarragona, Teruel, Toledo, Valencia, Valladolid, Zamora, Zaragoza,\n",
        "\n",
        "> The Metrics You Can Choose:\n",
        "\n",
        "        Men Activity Percentage, Women Activity Percentage, Men Unemployment Percentage, Women Unemployment Percentage, Men Employment Percentage, Women Employment Percentage, Women Unemployment Percentage, Men employment Percentage, Women employment Percentage, Índice general. Variación mensual., Alimentos y bebidas no alcohólicas. Índice., Bebidas alcohólicas y tabaco. Índice., Vestido y calzado. Índice., Sanidad. Índice., Transporte. Índice., Comunicaciones. Índice., Ocio y cultura. Índice., Enseñanza. Índice., Restaurantes y hoteles. Índice., Otros bienes y servicios. Índice., Sin asalariados. Total de empresas. Total CNAE. Empresas., De 1 a 2. Total de empresas. Total CNAE. Empresas., De 3 a 5. Total de empresas. Total CNAE. Empresas., De 6 a 9. Total de empresas. Total CNAE. Empresas., De 10 a 19. Total de empresas. Total CNAE. Empresas., De 20 a 49. Total de empresas. Total CNAE. Empresas., De 50 a 99. Total de empresas. Total CNAE. Empresas., De 100 a 199. Total de empresas. Total CNAE. Empresas., De 200 a 499. Total de empresas. Total CNAE. Empresas., De 500 a 999. Total de empresas. Total CNAE. Empresas., De 1000 a 4999. Total de empresas. Total CNAE. Empresas., De 5000 o más asalariados. Total de empresas. Total CNAE. Empresas., Total. Total de empresas. Total CNAE. Empresas.,\n",
        "\n",
        "  > About the Directories: 📂\n",
        "   \n",
        "        The folder Input contains the dataset, while the folder Output contains two subfolders SL and FL. Each of these two sufolders contains the numerical and graphical results of the training and testing of the linear regression model using SciekitLearn or TensorFlow, respectively.\n",
        "\n",
        "\n",
        "\n",
        "> Make sure to upload:\n",
        "  - data.csv\n",
        "  - LR_INIT.py\n",
        "  - LR_SL.py"
      ],
      "metadata": {
        "id": "kcVSuhgola5n"
      }
    },
    {
      "cell_type": "markdown",
      "source": [
        "**Task Description:**\n",
        "  - Try the regressor with several algorithm configurations for the same metric.\n",
        "  - Try several data series for the same metric.\n",
        "  - Try several metrics for the same series and see how the regressor learns."
      ],
      "metadata": {
        "id": "9_DO11dgiLbK"
      }
    },
    {
      "cell_type": "code",
      "source": [
        "import os.path\n",
        "import numpy as np\n",
        "import pandas as pd\n",
        "import seaborn as sns\n",
        "import matplotlib.pyplot as plt\n",
        "from sklearn import preprocessing, svm\n",
        "from sklearn.model_selection import train_test_split\n",
        "from sklearn.linear_model import LinearRegression\n",
        "from sklearn.metrics import mean_absolute_error, mean_squared_error\n",
        "import subprocess\n",
        "from LR_INT import LR_INT\n",
        "from LR_SL import LR_SL\n",
        "from LR_TF import LR_TF\n",
        "\n",
        "\n",
        "class LR_SL(LR_INT):\n",
        "    \"\"\"\n",
        "    implement linear regression using Scikitlean\n",
        "    \"\"\"\n",
        "    def __init__(self):\n",
        "        self.k = 1\n",
        "        self.y_test = []\n",
        "        self.y_pred = []\n",
        "\n",
        "    def linear_regression(self, *args):\n",
        "        threshold = args[0];\n",
        "        city = args[1];\n",
        "        serie = args[2];\n",
        "        year = args[3];\n",
        "        show = args[4];\n",
        "        df = pd.read_csv('data.csv')  # import the CSV\n",
        "        df2 = df.loc[(df['location_name'] == city) & (df['serie_name'] == serie) & (df['year'] == year)] # just change the name of the city, serie and year you want to predict\n",
        "        if len(df2['value']) > threshold:\n",
        "            # example by wrking on a smaller dataset. For each instruction is the same explanation as above\n",
        "            df2 = df[:][:threshold]  # selec only 500 datasets\n",
        "        #sns.lmplot(x=\"period\", y=\"value\", data=df2, order=2, ci=None)  # plots the scatter plot\n",
        "        #df2.fillna(method='ffill', inplace=True)  # eliminates the Nans\n",
        "        # Training the model\n",
        "        x = np.array(df2['period']).reshape(-1, 1)  # reshape the vector into an np array: this the feature\n",
        "        y = np.array(df2['value']).reshape(-1, 1)  # reshape the vector into an array: this is the target\n",
        "        #df2.dropna(inplace=True)  # removes all the rows with Null in it\n",
        "        X_train, X_test, y_train, y_test = train_test_split(x, y,test_size=0.25)  # its a method of sciekitlearn to split the dataset into training and testing, where 0.25 corresponds to the percentage of the datasamples to be considered as testing set\n",
        "        # it splits the x and y each one appart. It will produce two training sets and two testing sets for \"period\" and for \"value\".\n",
        "        regr = LinearRegression()  # create the object linearRegression of scikitlearn\n",
        "        regr.fit(X_train, y_train)  # this trains the linear model, meaning making the linear model fit the data\n",
        "        #print(regr.score(X_test,y_test))  # I think the higher the value, the better. NB: this return the coefficient of determination R^2 defined as (1-U/V) => full defintion of U and V available here https://scikit-learn.org/stable/modules/generated/sklearn.linear_model.LinearRegression.html\n",
        "        y_pred = regr.predict(X_test)  # this predicts the y prediction using the linear regression model, its the line!\n",
        "        plt.scatter(X_test, y_test, color='b')  # plot the original features and the target\n",
        "        plt.scatter(X_test, y_pred, color='k')  # plot the training features and the predicted target\n",
        "        self.y_pred = y_pred\n",
        "        self.y_test = y_test\n",
        "        plt.show()  # it does not fit well so the data is not suitable for linear regression. IF so happens, one can try to reduce the data we are working on\n",
        "\n",
        "\n",
        "\n",
        "    def display_result(self,*args):\n",
        "        y_test = args[0];\n",
        "        y_pred = args[1];\n",
        "        city = args[2];\n",
        "        serie = args[3];\n",
        "        year = args[4];\n",
        "        verbose = args[5];\n",
        "        # the evaluation metrics for regression models: MAE and MSE: Mean Absolute Error and Mean Square Error, and Root Mean Square error\n",
        "        mae = mean_absolute_error(y_true=y_test, y_pred=y_pred)\n",
        "        mse = mean_squared_error(y_true=y_test, y_pred=y_pred)\n",
        "        rmse = mean_squared_error(y_true=y_test, y_pred=y_pred, squared=False)\n",
        "        if verbose ==1:\n",
        "            print(\"----------------------------------------\")\n",
        "            print(\"The Evaluation Metrics of the Linear Regression\")\n",
        "            print(\"----------------------------------------\")\n",
        "            print(f\"The Mean Absolute Error Value is: {mae}\")\n",
        "            print(f\"The Mean Squared Error is: {mse}\")\n",
        "            print(f\"The Root Mean Squared Error is:{rmse}\")\n",
        "        else:\n",
        "            txt_name = \"../Output/SL/sl_linear_prediction\"+city+\"_\"+ serie +\"_\" + str(year) +\".txt\"\n",
        "            subprocess.run([\"touch\",txt_name]) # create the txt to store the results\n",
        "            with open(txt_name,'w') as f:\n",
        "                f.write(\"The Mean Absolute Error Value is:\"+ str(mae))\n",
        "                f.write('\\n')\n",
        "                f.write(\"The Mean Squared Error is:\"+ str(mse))\n",
        "                f.write('\\n')\n",
        "                f.write(\"The Root Mean Squared Error is:\"+ str(rmse))\n",
        "\n",
        "\n",
        "def main():\n",
        "    \"\"\"\n",
        "    Help:\n",
        "    Common paramters:\n",
        "        city: choose one of the 52 cities available (e.g. Ceuta)\n",
        "        serie: choose one of the 33 seconomical metrics (e.g. companies with X employees, etc).\n",
        "        year: choose a year from 2003 to 2007\n",
        "        verbose: set to \"1\" if you want visual display of the results and \"0\" if you want to store the results in files\n",
        "        Frame: set to \"1\" for scikit learn and \"0\" for tensorflow linear regression\n",
        "    Tensorflow parameters:\n",
        "        lr: the learning rate of the gradient decent.\n",
        "        training epochs: for how many epochs the training is performed.\n",
        "        display_rate: the laps of iterations at which we recover the log of the execution\n",
        "    \"\"\"\n",
        "    # -_-_-_-_-_-_- Parameters _-_-_-_-_-_-_-_-_-_-_\n",
        "\n",
        "    frame = 1;\n",
        "    city  = \"Ceuta\"\n",
        "    serie = \"Men Activity Percentage\"\n",
        "    year = 2003\n",
        "    verbose = 1\n",
        "    lr = 0.01 # the learning rate of the gradient descent\n",
        "    train_epochs = 2000 # training epochs\n",
        "    display_rate = 200 # onl\n",
        "\n",
        "    # _-_-_-_-_-_ The call to the univariate linear regression _-_-_-_-__-_-\n",
        "    test_frame = lambda frame: frame == 1;\n",
        "    var = LR_SL() if test_frame(frame) == True else LR_TF();\n",
        "    var.linear_regression(500,city,serie,year,verbose,lr,train_epochs,display_rate)\n",
        "\n",
        "    if  test_frame(frame):\n",
        "       var.display_result(var.y_test, var.y_pred, city, serie, year, verbose)\n",
        "    else:\n",
        "      var.display_result(var.log,var.training_cost,var.testing_cost,city,serie,year,var.W,var.B,var.train_x,var.train_y, var.test_x, var.test_y, verbose)\n",
        "\n",
        "if __name__ == \"__main__\":\n",
        "    main()"
      ],
      "metadata": {
        "colab": {
          "base_uri": "https://localhost:8080/",
          "height": 589
        },
        "id": "zQyc3WSVR0Iu",
        "outputId": "99bc99c2-b6a5-429e-99fd-439d46f01d7b"
      },
      "execution_count": null,
      "outputs": [
        {
          "output_type": "display_data",
          "data": {
            "text/plain": [
              "<Figure size 640x480 with 1 Axes>"
            ],
            "image/png": "[encoded data removed]"
          },
          "metadata": {}
        },
        {
          "output_type": "stream",
          "name": "stdout",
          "text": [
            "----------------------------------------\n",
            "The Evaluation Metrics of the Linear Regression\n",
            "----------------------------------------\n",
            "The Mean Absolute Error Value is: 1.1754345006485067\n",
            "The Mean Squared Error is: 1.7420882203897075\n",
            "The Root Mean Squared Error is:1.3198818963792585\n"
          ]
        },
        {
          "output_type": "stream",
          "name": "stderr",
          "text": [
            "/usr/local/lib/python3.10/dist-packages/sklearn/metrics/_regression.py:492: FutureWarning: 'squared' is deprecated in version 1.4 and will be removed in 1.6. To calculate the root mean squared error, use the function'root_mean_squared_error'.\n",
            "  warnings.warn(\n"
          ]
        }
      ]
    }
  ]
}