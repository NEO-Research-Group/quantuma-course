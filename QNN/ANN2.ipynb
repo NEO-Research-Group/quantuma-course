{
 "cells": [
  {
   "cell_type": "markdown",
   "metadata": {
    "id": "U1HNoal1SKqM"
   },
   "source": [
    "# Surrogate models\n",
    "\n",
    "A surrogate model is an engineering method used when an outcome of interest cannot be easily directly measured, so a model of the outcome is used instead. A lot of problems require experiments and/or simulations to evaluate de the quality of the proposed solution.  For many real-world problems, however, a single simulation can take many minutes, hours, or even days to complete. As a result, routine tasks such as optimization, become impossible since they require thousands or even millions of simulation evaluations.\n",
    "\n",
    "One way of alleviating this burden is by constructing approximation models, known as surrogate models, that mimic the behavior of the simulation model as closely as possible while being computationally cheap(er) to evaluate. Surrogate models are constructed using a data-driven, bottom-up approach. The exact, inner working of the simulation code is not assumed to be known (or even understood), solely the input-output behavior is important. A model is constructed based on modeling the response of the simulator to a limited number of intelligently chosen data points. "
   ]
  },
  {
   "cell_type": "markdown",
   "metadata": {
    "id": "hC_AndZFafAW"
   },
   "source": [
    "## Dataset: Traffic Light Scheduling Problem\n",
    "\n",
    "Our surrogate model will replace the utilization of SUMO to calculate the quality of the traffic light plan. In this case, a traffic light plan consists of 190 phases (from around 45 main intersections in Málaga). We have generated around 29000 different plans and get their fitness using SUMO. These samples are the dataset used to train and test our surrogate model.\n",
    "\n",
    "In the next code, we provide a function to load and prepare the dataset for our experiments. It requires that the dataset file is in \"Colab Notebook\" directory of your drive. In the Campus Virtual you can find the dataset file. You have to download this file and upload it in the appropriate directory in your google drive."
   ]
  },
  {
   "cell_type": "code",
   "execution_count": null,
   "metadata": {
    "id": "g9_SUN5HU2nI"
   },
   "outputs": [],
   "source": [
    "import numpy as np\n",
    "import pandas as pd\n",
    "import tensorflow as tf\n",
    "from sklearn.model_selection import train_test_split\n",
    "from sklearn.metrics import accuracy_score\n",
    "from keras.models import Sequential\n",
    "from keras.layers import Dense\n",
    "\n",
    "from google.colab import drive\n",
    "import math\n",
    "import random\n",
    "\n",
    "# For using our drive\n",
    "drive.mount('/content/drive')\n",
    "tf.random.set_seed(100)\n",
    "\n",
    "def load_data():\n",
    "  # Load CSV file from your oun google drive (you need to upload the file to your drive. The file is available in https://drive.google.com/file/d/1bPoWQjVkbjrEQSrR7qm_f7469oQy1qIC/view?usp=drive_link)\n",
    "  data = pd.read_csv('/content/drive/MyDrive/Colab Notebooks/tlsp.csv')\n",
    "\n",
    "  # Create Matrix of Independent Variables\n",
    "  X = data.drop([' Fitness'], axis=1)\n",
    "  # Create Vector of Dependent Variable\n",
    "  y = data[' Fitness']\n",
    "  # Create a Train Test Split for Genetic Optimization\n",
    "  X_train, X_test, y_train, y_test = train_test_split(X, y)\n",
    "  \n",
    "  return X_train, X_test, y_train, y_test\n",
    "\n",
    "# testing if data is correctly loaded\n",
    "X_train, X_test, y_train, y_test = load_data()\n",
    "print(y_train)"
   ]
  },
  {
   "cell_type": "markdown",
   "metadata": {
    "id": "suQpP2mOV8G5"
   },
   "source": [
    "## Surrogate model: Artificial Neural Network\n",
    "\n",
    "Create an Artificial Neural Network as surrogate model. The features of this ANN are:\n",
    "* The number of inputs is 190 float numbers.\n",
    "* It has two hidden (dense) layers: the first with 285 neurons and the second with 190 neurons. Both layers use the ReLU activation function.\n",
    "* The output (dense) layer has a single neuron with no activation function.\n",
    "* For training, it uses the `mean_squared_error` as loss function, `adam` as optimizer, and `mse` as metrics.\n",
    "\n",
    "Complete the following code."
   ]
  },
  {
   "cell_type": "code",
   "execution_count": null,
   "metadata": {
    "id": "JBUNI033STfj"
   },
   "outputs": [],
   "source": [
    "# Build the ANN\n",
    "def get_model():\n",
    "  # Create a Sequential Model with 3 layers as mentioned previously\n",
    "  model = None\n",
    "  return model\n",
    "\n",
    "# Standard Backpropagation optimization method\n",
    "def compile_network(model, epochs, X, y):\n",
    "  # Compile the model with the previous parameters\n",
    "  # Fit the model with the training data\n",
    "  pass\n",
    "\n",
    "# Get error\n",
    "def get_error(model, X, y):\n",
    "  scores = model.evaluate(X,y)\n",
    "  return scores[1]\n",
    "\n",
    "# Testing  ANN\n",
    "# Get the model\n",
    "# Compile the model (train the model) with 20 epochs and the training data\n",
    "# Get the error of the model with the testing data\n",
    "# Print the error\n"
   ]
  }
 ],
 "metadata": {
  "colab": {
   "collapsed_sections": [],
   "name": "ICD_6.ipynb",
   "provenance": []
  },
  "kernelspec": {
   "display_name": "Python 3",
   "language": "python",
   "name": "python3"
  },
  "language_info": {
   "name": "python",
   "version": "3.9.7 (default, Sep  3 2021, 12:37:55) \n[Clang 12.0.5 (clang-1205.0.22.9)]"
  },
  "vscode": {
   "interpreter": {
    "hash": "aee8b7b246df8f9039afb4144a1f6fd8d2ca17a180786b69acc140d282b71a49"
   }
  }
 },
 "nbformat": 4,
 "nbformat_minor": 0
}
