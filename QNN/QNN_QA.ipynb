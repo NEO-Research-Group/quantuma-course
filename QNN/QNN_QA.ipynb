{
  "nbformat": 4,
  "nbformat_minor": 0,
  "metadata": {
    "colab": {
      "provenance": []
    },
    "kernelspec": {
      "name": "python3",
      "display_name": "Python 3"
    },
    "language_info": {
      "name": "python"
    }
  },
  "cells": [
    {
      "cell_type": "code",
      "execution_count": null,
      "metadata": {
        "id": "TS07SS-Z4lrw"
      },
      "outputs": [],
      "source": [
        "!pip install dwave-ocean-sdk\n",
        "\n"
      ]
    },
    {
      "cell_type": "code",
      "source": [
        "!dwave setup"
      ],
      "metadata": {
        "id": "N3QYYTj24po3"
      },
      "execution_count": null,
      "outputs": []
    },
    {
      "cell_type": "code",
      "source": [
        "from dwave.system import EmbeddingComposite, DWaveSampler\n",
        "import dimod\n",
        "\n",
        "# 1. Definir los pesos y bias de la red\n",
        "weights = {\n",
        "    'x1_h1': -1.5,  # Peso entre x1 y h1\n",
        "    'x2_h1': -2.0,  # Peso entre x2 y h1\n",
        "    'h1_y1': -1.0   # Peso entre h1 y y1\n",
        "}\n",
        "\n",
        "biases = {\n",
        "    'h1': 0.5,  # Bias en la neurona oculta h1\n",
        "    'y1': 0.7   # Bias en la neurona de salida y1\n",
        "}\n",
        "\n",
        "# 2. Construir el QUBO\n",
        "Q = {\n",
        "    # Pesos entre las capas\n",
        "    ('x1', 'h1'): weights['x1_h1'],\n",
        "    ('x2', 'h1'): weights['x2_h1'],\n",
        "    ('h1', 'y1'): weights['h1_y1'],\n",
        "\n",
        "    # Bias como términos diagonales\n",
        "    ('h1', 'h1'): biases['h1'],\n",
        "    ('y1', 'y1'): biases['y1']\n",
        "}\n",
        "\n",
        "# 3. Resolver el QUBO usando D-Wave\n",
        "sampler = EmbeddingComposite(DWaveSampler())  # Usar sampler con embedding\n",
        "response = sampler.sample_qubo(Q, num_reads=10)  # Ejecutar el QUBO\n",
        "\n",
        "# 4. Mostrar los resultados\n",
        "print(\"Resultados:\")\n",
        "for sample, energy in response.data(['sample', 'energy']):\n",
        "    print(f\"Configuración: {sample}, Energía: {energy}\")\n"
      ],
      "metadata": {
        "colab": {
          "base_uri": "https://localhost:8080/"
        },
        "id": "LJQjlosH42Pb",
        "outputId": "38732d09-b860-4109-9d4a-e594ec9fa440"
      },
      "execution_count": null,
      "outputs": [
        {
          "output_type": "stream",
          "name": "stdout",
          "text": [
            "Resultados:\n",
            "Configuración: {'h1': 1, 'x1': 1, 'x2': 1, 'y1': 1}, Energía: -3.3\n"
          ]
        }
      ]
    },
    {
      "cell_type": "code",
      "source": [
        "# Modificar QUBO para fijar x1 = 1 y x2 = 0\n",
        "Q = {\n",
        "    ('h1', 'h1'): biases['h1'] + weights['x1_h1'],  # Incluye peso de x1\n",
        "    ('h1', 'y1'): weights['h1_y1'],  # Conexión h1 -> y1\n",
        "    ('y1', 'y1'): biases['y1']  # Bias de salida\n",
        "}\n",
        "\n",
        "# Resolver el QUBO\n",
        "sampler = dimod.SimulatedAnnealingSampler()  # Usar simulador\n",
        "response = sampler.sample_qubo(Q, num_reads=10)\n",
        "\n",
        "# Mostrar los resultados\n",
        "print(\"Resultados:\")\n",
        "for sample, energy in response.data(['sample', 'energy']):\n",
        "    print(f\"Configuración: {sample}, Energía: {energy}\")"
      ],
      "metadata": {
        "colab": {
          "base_uri": "https://localhost:8080/"
        },
        "id": "60Wgb5ZA5dA0",
        "outputId": "2f9e0122-441e-4a66-dd3b-139f050ed6c6"
      },
      "execution_count": null,
      "outputs": [
        {
          "output_type": "stream",
          "name": "stdout",
          "text": [
            "Resultados:\n",
            "Configuración: {'h1': 1, 'y1': 1}, Energía: -1.3\n",
            "Configuración: {'h1': 1, 'y1': 1}, Energía: -1.3\n",
            "Configuración: {'h1': 1, 'y1': 1}, Energía: -1.3\n",
            "Configuración: {'h1': 1, 'y1': 1}, Energía: -1.3\n",
            "Configuración: {'h1': 1, 'y1': 1}, Energía: -1.3\n",
            "Configuración: {'h1': 1, 'y1': 1}, Energía: -1.3\n",
            "Configuración: {'h1': 1, 'y1': 0}, Energía: -1.0\n",
            "Configuración: {'h1': 1, 'y1': 0}, Energía: -1.0\n",
            "Configuración: {'h1': 0, 'y1': 0}, Energía: 0.0\n",
            "Configuración: {'h1': 0, 'y1': 0}, Energía: 0.0\n"
          ]
        }
      ]
    }
  ]
}