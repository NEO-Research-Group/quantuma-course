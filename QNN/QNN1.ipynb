{
  "nbformat": 4,
  "nbformat_minor": 0,
  "metadata": {
    "colab": {
      "provenance": []
    },
    "kernelspec": {
      "name": "python3",
      "display_name": "Python 3"
    },
    "language_info": {
      "name": "python"
    }
  },
  "cells": [
    {
      "cell_type": "code",
      "execution_count": null,
      "metadata": {
        "id": "z4AnUzmDZE0p"
      },
      "outputs": [],
      "source": [
        "!pip install pennylane tensorflow==2.14.0"
      ]
    },
    {
      "cell_type": "code",
      "source": [
        "import pennylane as qml\n",
        "from pennylane import numpy as np\n",
        "import tensorflow as tf\n",
        "tf.get_logger().setLevel('ERROR')\n",
        "\n",
        "# Parámetros del circuito cuántico\n",
        "n_qubits = 2\n",
        "n_layers = 2\n",
        "\n",
        "# Dispositivo cuántico\n",
        "dev = qml.device(\"default.qubit\", wires=n_qubits)\n",
        "\n",
        "# Circuito cuántico\n",
        "def quantum_circuit(inputs, weights):\n",
        "    qml.templates.AngleEmbedding(inputs, wires=range(n_qubits))\n",
        "    qml.templates.StronglyEntanglingLayers(weights, wires=range(n_qubits))\n",
        "    return [qml.expval(qml.PauliZ(i)) for i in range(n_qubits)]\n",
        "\n",
        "# Modelo cuántico\n",
        "@qml.qnode(dev)\n",
        "def quantum_model(inputs, weights):\n",
        "    return quantum_circuit(inputs, weights)\n",
        "\n",
        "# Conversión del modelo para TensorFlow\n",
        "weights_shape = qml.templates.StronglyEntanglingLayers.shape(n_layers, n_qubits)\n",
        "quantum_layer = qml.qnn.KerasLayer(quantum_model, weight_shapes={\"weights\": weights_shape}, output_dim=n_qubits)\n",
        "\n",
        "# Definición del modelo clásico\n",
        "classical_model = tf.keras.Sequential([\n",
        "    tf.keras.layers.Dense(4, activation=\"relu\"),\n",
        "    tf.keras.layers.Dense(n_qubits, activation=\"relu\"),\n",
        "    quantum_layer,\n",
        "    tf.keras.layers.Dense(1, activation=\"sigmoid\")  # Salida binaria\n",
        "])\n",
        "\n",
        "# Compilación del modelo\n",
        "classical_model.compile(optimizer=\"adam\", loss=\"binary_crossentropy\", metrics=[\"accuracy\"])\n",
        "\n",
        "# Generación de datos estructurados\n",
        "def generate_data(samples):\n",
        "    X = np.random.random((samples, n_qubits))\n",
        "    y = (np.sum(X, axis=1) > 1).astype(int)  # Etiqueta: 1 si la suma > 1, 0 en caso contrario\n",
        "    return X, y\n",
        "\n",
        "# Crear datos\n",
        "X_train, y_train = generate_data(100)\n",
        "X_test, y_test = generate_data(20)\n",
        "\n",
        "# Entrenamiento\n",
        "classical_model.fit(X_train, y_train, epochs=10, batch_size=5)\n",
        "\n",
        "# Evaluación\n",
        "loss, accuracy = classical_model.evaluate(X_test, y_test)\n",
        "print(f\"Pérdida: {loss}, Precisión: {accuracy}\")"
      ],
      "metadata": {
        "id": "OOr2MSARZJIP"
      },
      "execution_count": null,
      "outputs": []
    }
  ]
}