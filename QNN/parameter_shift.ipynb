{
 "cells": [
  {
   "cell_type": "code",
   "execution_count": null,
   "metadata": {
    "colab": {
     "base_uri": "https://localhost:8080/"
    },
    "id": "P0T8PfwIh7RI",
    "outputId": "eb1ed955-c13b-4d71-aa3e-88f3e6cf752d"
   },
   "outputs": [],
   "source": [
    "!pip install qiskit qiskit-aer"
   ]
  },
  {
   "cell_type": "markdown",
   "metadata": {},
   "source": [
    "## Circuito de prueba"
   ]
  },
  {
   "cell_type": "code",
   "execution_count": 5,
   "metadata": {
    "id": "kMgX4QHbh959"
   },
   "outputs": [],
   "source": [
    "from qiskit import QuantumCircuit, transpile\n",
    "from qiskit_aer import Aer\n",
    "import numpy as np\n",
    "\n",
    "# Crear un circuito cuántico con 1 qubit\n",
    "def create_circuit(param):\n",
    "    qc = QuantumCircuit(1)\n",
    "    qc.rx(param, 0)  # Rotación alrededor del eje X\n",
    "    qc.measure_all()\n",
    "    return qc\n"
   ]
  },
  {
   "cell_type": "markdown",
   "metadata": {},
   "source": [
    "## Evaluación del circuito"
   ]
  },
  {
   "cell_type": "code",
   "execution_count": 6,
   "metadata": {
    "id": "a0ywM0AliF5F"
   },
   "outputs": [],
   "source": [
    "def evaluate_circuit(circuit):\n",
    "    # Usamos el simulador de Aer\n",
    "    simulator = Aer.get_backend('statevector_simulator')\n",
    "\n",
    "    # Ejecutamos el circuito\n",
    "    new_circuit = transpile(circuit, simulator)\n",
    "    job = simulator.run(new_circuit)\n",
    "    result = job.result()\n",
    "\n",
    "    # Obtenemos el estado final\n",
    "    statevector = result.get_statevector()\n",
    "\n",
    "    # Calculamos la expectativa de Z: |a|^2 - |b|^2\n",
    "    expectation = np.abs(statevector[0])**2 - np.abs(statevector[1])**2\n",
    "    return expectation\n"
   ]
  },
  {
   "cell_type": "markdown",
   "metadata": {},
   "source": [
    "## Cálculo de la regla de \"Parameter Shift\""
   ]
  },
  {
   "cell_type": "code",
   "execution_count": 10,
   "metadata": {
    "id": "bBF8626HiJcc"
   },
   "outputs": [],
   "source": [
    "def parameter_shift(circuit_func, param, r):\n",
    "    shift = np.pi / (2*r)\n",
    "\n",
    "    # Circuito con desplazamiento positivo\n",
    "    circuit_plus = circuit_func(param + shift)\n",
    "    expectation_plus = evaluate_circuit(circuit_plus)\n",
    "\n",
    "    # Circuito con desplazamiento negativo\n",
    "    circuit_minus = circuit_func(param - shift)\n",
    "    expectation_minus = evaluate_circuit(circuit_minus)\n",
    "\n",
    "    # Regla del parámetro shift\n",
    "    gradient = 0.5 * (expectation_plus - expectation_minus)\n",
    "    return gradient\n"
   ]
  },
  {
   "cell_type": "markdown",
   "metadata": {},
   "source": [
    "## Prueba"
   ]
  },
  {
   "cell_type": "code",
   "execution_count": 13,
   "metadata": {
    "colab": {
     "base_uri": "https://localhost:8080/"
    },
    "id": "KFXiz2F0iL6l",
    "outputId": "2c0b5e6c-5a34-4ac1-a36e-1221daac7462"
   },
   "outputs": [
    {
     "name": "stdout",
     "output_type": "stream",
     "text": [
      "Expectativa en Z: 1.0\n",
      "Gradiente: -1.0\n"
     ]
    }
   ],
   "source": [
    "# Parámetro inicial\n",
    "theta = np.pi / 4\n",
    "\n",
    "# Crear y evaluar el circuito\n",
    "circuit = create_circuit(theta)\n",
    "expectation = evaluate_circuit(circuit)\n",
    "print(f\"Expectativa en Z: {expectation}\")\n",
    "\n",
    "# Calcular la derivada\n",
    "gradient = parameter_shift(create_circuit, theta, 2)\n",
    "print(f\"Gradiente: {gradient}\")\n"
   ]
  }
 ],
 "metadata": {
  "colab": {
   "provenance": []
  },
  "kernelspec": {
   "display_name": "Python 3",
   "name": "python3"
  },
  "language_info": {
   "name": "python"
  }
 },
 "nbformat": 4,
 "nbformat_minor": 0
}
