{
  "nbformat": 4,
  "nbformat_minor": 0,
  "metadata": {
    "colab": {
      "provenance": [],
      "authorship_tag": "ABX9TyPBYoXdQOqbQ3dSmdGZDmik",
      "include_colab_link": true
    },
    "kernelspec": {
      "name": "python3",
      "display_name": "Python 3"
    },
    "language_info": {
      "name": "python"
    }
  },
  "cells": [
    {
      "cell_type": "markdown",
      "metadata": {
        "id": "view-in-github",
        "colab_type": "text"
      },
      "source": [
        "<a href=\"https://colab.research.google.com/github/jfrchicanog/quantuma-course/blob/main/QUBO.ipynb\" target=\"_parent\"><img src=\"https://colab.research.google.com/assets/colab-badge.svg\" alt=\"Open In Colab\"/></a>"
      ]
    },
    {
      "cell_type": "markdown",
      "source": [
        "We first install the Ocean SDK (D-Wave software)"
      ],
      "metadata": {
        "id": "1VRDSen5QsYu"
      }
    },
    {
      "cell_type": "code",
      "execution_count": null,
      "metadata": {
        "id": "RzvFda0QQgx-"
      },
      "outputs": [],
      "source": [
        "!pip install dwave-ocean-sdk networkx"
      ]
    },
    {
      "cell_type": "markdown",
      "source": [
        "Now we need to configure the environment (press 'enter' to use the default options). If you have an API key to use D-Wave systems, you can enter the key at this stage."
      ],
      "metadata": {
        "id": "J5ggr3iVSpLm"
      }
    },
    {
      "cell_type": "code",
      "source": [
        "!dwave setup"
      ],
      "metadata": {
        "id": "z5KefhJXSbAX"
      },
      "execution_count": null,
      "outputs": []
    },
    {
      "cell_type": "markdown",
      "source": [
        "Import the required libraries"
      ],
      "metadata": {
        "id": "vj3Vh2oOchBr"
      }
    },
    {
      "cell_type": "code",
      "source": [
        "from dimod import Binary, ExactSolver\n",
        "from networkx import Graph, draw\n",
        "from dwave.samplers import SimulatedAnnealingSampler, SteepestDescentSampler\n",
        "from dwave.system import DWaveSampler, EmbeddingComposite"
      ],
      "metadata": {
        "id": "SItemVFHV0BZ"
      },
      "execution_count": null,
      "outputs": []
    },
    {
      "cell_type": "markdown",
      "source": [
        "This function creates the QUBO expression from the graph"
      ],
      "metadata": {
        "id": "qOoy-JMDcl0n"
      }
    },
    {
      "cell_type": "code",
      "source": [
        "def obtener_QUBO(G):\n",
        "  nvars = len(G.nodes())\n",
        "  var = [Binary(f'v{i}') for i in range (0,nvars)]\n",
        "  qubo = -sum([(var[i]-var[j])**2 for i,j in G.edges()])\n",
        "  return qubo"
      ],
      "metadata": {
        "id": "Xp8VarZoXQMR"
      },
      "execution_count": null,
      "outputs": []
    },
    {
      "cell_type": "markdown",
      "source": [
        "We define a function to get the sampler, which will try to solve the problem"
      ],
      "metadata": {
        "id": "FdOd_n7zcpbd"
      }
    },
    {
      "cell_type": "code",
      "source": [
        "def obtener_sampler():\n",
        "  return ExactSolver()\n",
        "  #return SimulatedAnnealingSampler()\n",
        "  #return SteepestDescentSampler()\n",
        "  #return EmbeddingComposite(DWaveSampler())"
      ],
      "metadata": {
        "id": "D23NABuRcwZA"
      },
      "execution_count": null,
      "outputs": []
    },
    {
      "cell_type": "markdown",
      "source": [
        "Let's use this simple graph"
      ],
      "metadata": {
        "id": "F0_RFQp_c14O"
      }
    },
    {
      "cell_type": "code",
      "source": [
        "G = Graph()\n",
        "G.add_nodes_from([0,1,2,3,4])\n",
        "G.add_edges_from([(0,1),(0,3),(1,2),(1,3),(2,4),(3,4)])\n",
        "draw(G, with_labels=True)"
      ],
      "metadata": {
        "colab": {
          "base_uri": "https://localhost:8080/",
          "height": 536
        },
        "id": "WtLtPtfCYA26",
        "outputId": "d033e36d-1e01-4c6d-9d1f-c35c36c6569c"
      },
      "execution_count": null,
      "outputs": [
        {
          "output_type": "display_data",
          "data": {
            "text/plain": [
              "<Figure size 640x480 with 1 Axes>"
            ],
            "image/png": "[encoded data removed]"
          },
          "metadata": {}
        }
      ]
    },
    {
      "cell_type": "markdown",
      "source": [
        "We show the QUBO model for this graph:"
      ],
      "metadata": {
        "id": "xpjf2dYNdJ1e"
      }
    },
    {
      "cell_type": "code",
      "source": [
        "qubo = obtener_QUBO(G)\n",
        "print(qubo)"
      ],
      "metadata": {
        "colab": {
          "base_uri": "https://localhost:8080/"
        },
        "id": "m79-VhxmYbjH",
        "outputId": "f886bde9-be68-454f-dffa-6cd5cc1550c7"
      },
      "execution_count": null,
      "outputs": [
        {
          "output_type": "execute_result",
          "data": {
            "text/plain": [
              "BinaryQuadraticModel({'v0': -2.0, 'v1': -3.0, 'v3': -3.0, 'v2': -2.0, 'v4': -2.0}, {('v1', 'v0'): 2.0, ('v3', 'v0'): 2.0, ('v3', 'v1'): 2.0, ('v2', 'v1'): 2.0, ('v4', 'v3'): 2.0, ('v4', 'v2'): 2.0}, -0.0, 'BINARY')"
            ]
          },
          "metadata": {},
          "execution_count": 7
        }
      ]
    },
    {
      "cell_type": "markdown",
      "source": [
        "We compute the solution using the sampler. This could be a Dwave quantum annealer if the API key was introduced during the setup stage of the SDK and the appropraite sampler was chosen."
      ],
      "metadata": {
        "id": "Gxk0CdlodRgV"
      }
    },
    {
      "cell_type": "code",
      "source": [
        "sampler = obtener_sampler()\n",
        "resultado = sampler.sample(qubo, num_reads=10)\n",
        "print(resultado)"
      ],
      "metadata": {
        "colab": {
          "base_uri": "https://localhost:8080/"
        },
        "id": "7rhZTe_JZgH3",
        "outputId": "f7213306-5ffe-4d1a-8c14-57ddaa3da91c"
      },
      "execution_count": null,
      "outputs": [
        {
          "output_type": "stream",
          "name": "stdout",
          "text": [
            "  v0 v1 v2 v3 v4 energy num_oc. chain_.\n",
            "0  0  1  0  0  1   -5.0       1     0.0\n",
            "1  1  1  0  0  1   -5.0       1     0.0\n",
            "2  1  0  1  1  0   -5.0       6     0.0\n",
            "3  0  0  1  1  0   -5.0       2     0.0\n",
            "['BINARY', 4 rows, 10 samples, 5 variables]\n"
          ]
        }
      ]
    },
    {
      "cell_type": "markdown",
      "source": [
        "If you did not configure Dwave software above, you can always configure it using the following command."
      ],
      "metadata": {
        "id": "HmQcSAJt6YY3"
      }
    },
    {
      "cell_type": "code",
      "source": [
        "!dwave config create"
      ],
      "metadata": {
        "id": "KQqUP8_lfTqM"
      },
      "execution_count": null,
      "outputs": []
    }
  ]
}