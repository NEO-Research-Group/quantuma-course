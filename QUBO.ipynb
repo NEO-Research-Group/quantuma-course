{
  "nbformat": 4,
  "nbformat_minor": 0,
  "metadata": {
    "colab": {
      "provenance": [],
      "authorship_tag": "ABX9TyPaX9nGEDFq2tTbWt8PjTzl",
      "include_colab_link": true
    },
    "kernelspec": {
      "name": "python3",
      "display_name": "Python 3"
    },
    "language_info": {
      "name": "python"
    }
  },
  "cells": [
    {
      "cell_type": "markdown",
      "metadata": {
        "id": "view-in-github",
        "colab_type": "text"
      },
      "source": [
        "<a href=\"https://colab.research.google.com/github/NEO-Research-Group/quantuma-course/blob/main/QUBO.ipynb\" target=\"_parent\"><img src=\"https://colab.research.google.com/assets/colab-badge.svg\" alt=\"Open In Colab\"/></a>"
      ]
    },
    {
      "cell_type": "markdown",
      "source": [
        "We first install the Ocean SDK (D-Wave software)."
      ],
      "metadata": {
        "id": "1VRDSen5QsYu"
      }
    },
    {
      "cell_type": "code",
      "execution_count": null,
      "metadata": {
        "id": "RzvFda0QQgx-"
      },
      "outputs": [],
      "source": [
        "!pip install dwave-ocean-sdk networkx"
      ]
    },
    {
      "cell_type": "markdown",
      "source": [
        "Now we need to configure the environment (press 'enter' to use the default options). If you have an API key to use D-Wave systems, you can enter the key at this stage."
      ],
      "metadata": {
        "id": "J5ggr3iVSpLm"
      }
    },
    {
      "cell_type": "code",
      "source": [
        "!dwave setup"
      ],
      "metadata": {
        "id": "z5KefhJXSbAX"
      },
      "execution_count": null,
      "outputs": []
    },
    {
      "cell_type": "markdown",
      "source": [
        "Import the required libraries."
      ],
      "metadata": {
        "id": "vj3Vh2oOchBr"
      }
    },
    {
      "cell_type": "code",
      "source": [
        "from dimod import Binary, ExactSolver\n",
        "from networkx import Graph, draw\n",
        "from dwave.samplers import SimulatedAnnealingSampler, SteepestDescentSampler\n",
        "from dwave.system import DWaveSampler, EmbeddingComposite"
      ],
      "metadata": {
        "id": "SItemVFHV0BZ"
      },
      "execution_count": 11,
      "outputs": []
    },
    {
      "cell_type": "markdown",
      "source": [
        "This function creates the QUBO expression from the graph."
      ],
      "metadata": {
        "id": "qOoy-JMDcl0n"
      }
    },
    {
      "cell_type": "code",
      "source": [
        "def get_QUBO(G):\n",
        "  nvars = len(G.nodes())\n",
        "  var = [Binary(f'v{i}') for i in range (0,nvars)]\n",
        "  qubo = -sum([(var[i]-var[j])**2 for i,j in G.edges()])\n",
        "  return qubo"
      ],
      "metadata": {
        "id": "Xp8VarZoXQMR"
      },
      "execution_count": 12,
      "outputs": []
    },
    {
      "cell_type": "markdown",
      "source": [
        "We define a function to get the sampler, which will try to solve the problem."
      ],
      "metadata": {
        "id": "FdOd_n7zcpbd"
      }
    },
    {
      "cell_type": "code",
      "source": [
        "def get_sampler():\n",
        "  #return ExactSolver()\n",
        "  #return SimulatedAnnealingSampler()\n",
        "  #return SteepestDescentSampler()\n",
        "  return EmbeddingComposite(DWaveSampler())"
      ],
      "metadata": {
        "id": "D23NABuRcwZA"
      },
      "execution_count": 31,
      "outputs": []
    },
    {
      "cell_type": "markdown",
      "source": [
        "Let's use this simple graph."
      ],
      "metadata": {
        "id": "F0_RFQp_c14O"
      }
    },
    {
      "cell_type": "code",
      "source": [
        "G = Graph()\n",
        "G.add_nodes_from([0,1,2,3,4])\n",
        "G.add_edges_from([(0,1),(0,3),(1,2),(1,3),(2,4),(3,4)])\n",
        "draw(G, with_labels=True)"
      ],
      "metadata": {
        "id": "WtLtPtfCYA26"
      },
      "execution_count": null,
      "outputs": []
    },
    {
      "cell_type": "markdown",
      "source": [
        "We show the QUBO model for this graph:"
      ],
      "metadata": {
        "id": "xpjf2dYNdJ1e"
      }
    },
    {
      "cell_type": "code",
      "source": [
        "qubo = get_QUBO(G)\n",
        "print(qubo)"
      ],
      "metadata": {
        "id": "m79-VhxmYbjH"
      },
      "execution_count": null,
      "outputs": []
    },
    {
      "cell_type": "markdown",
      "source": [
        "We compute the solution using the sampler. This could be a Dwave quantum annealer if the API key was introduced during the setup stage of the SDK and the appropriate sampler was chosen."
      ],
      "metadata": {
        "id": "Gxk0CdlodRgV"
      }
    },
    {
      "cell_type": "code",
      "source": [
        "sampler = get_sampler()\n",
        "result = sampler.sample(qubo, num_reads=100)\n",
        "print(result)"
      ],
      "metadata": {
        "id": "7rhZTe_JZgH3"
      },
      "execution_count": null,
      "outputs": []
    },
    {
      "cell_type": "markdown",
      "source": [
        "If you did not configure Dwave software above, you can always configure it using the following command."
      ],
      "metadata": {
        "id": "HmQcSAJt6YY3"
      }
    },
    {
      "cell_type": "code",
      "source": [
        "!dwave config create"
      ],
      "metadata": {
        "id": "KQqUP8_lfTqM"
      },
      "execution_count": null,
      "outputs": []
    }
  ]
}
