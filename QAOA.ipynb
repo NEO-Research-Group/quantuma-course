{
  "nbformat": 4,
  "nbformat_minor": 0,
  "metadata": {
    "colab": {
      "provenance": [],
      "authorship_tag": "ABX9TyNizGC4dudDrZGJYbPALiZF",
      "include_colab_link": true
    },
    "kernelspec": {
      "name": "python3",
      "display_name": "Python 3"
    },
    "language_info": {
      "name": "python"
    }
  },
  "cells": [
    {
      "cell_type": "markdown",
      "metadata": {
        "id": "view-in-github",
        "colab_type": "text"
      },
      "source": [
        "<a href=\"https://colab.research.google.com/github/jfrchicanog/quantuma-course/blob/main/QAOA.ipynb\" target=\"_parent\"><img src=\"https://colab.research.google.com/assets/colab-badge.svg\" alt=\"Open In Colab\"/></a>"
      ]
    },
    {
      "cell_type": "markdown",
      "source": [
        "We first install the qiskit and some utility packages."
      ],
      "metadata": {
        "id": "K2cdpJqq7Yn3"
      }
    },
    {
      "cell_type": "code",
      "execution_count": null,
      "metadata": {
        "id": "Q6RhG6a6ZGCO"
      },
      "outputs": [],
      "source": [
        "!pip install qiskit qiskit-aer matplotlib pylatexenc networkx scipy"
      ]
    },
    {
      "cell_type": "markdown",
      "source": [
        "We import the required libraries."
      ],
      "metadata": {
        "id": "FUNxwrexnRvZ"
      }
    },
    {
      "cell_type": "code",
      "source": [
        "from qiskit.circuit import QuantumCircuit, Parameter\n",
        "from qiskit_aer import Aer\n",
        "from qiskit.visualization import plot_histogram\n",
        "from networkx import Graph, draw\n",
        "from scipy.optimize import minimize"
      ],
      "metadata": {
        "id": "KkLnjH9fnPWw"
      },
      "execution_count": null,
      "outputs": []
    },
    {
      "cell_type": "markdown",
      "source": [
        "This function builds the circuit from the graph and a vector with parameters γ y β"
      ],
      "metadata": {
        "id": "MH3QFEA-nzId"
      }
    },
    {
      "cell_type": "code",
      "source": [
        "def get_circuit(G, theta):\n",
        "  nqubits = len(G.nodes())\n",
        "  circuit = QuantumCircuit(nqubits)\n",
        "  p = len(theta)//2\n",
        "\n",
        "  gamma = theta[:p]\n",
        "  beta = theta[p:]\n",
        "\n",
        "  # We prepare the superposition of all the basis states with Hadamard gates\n",
        "  for i in range(0, nqubits):\n",
        "    circuit.h(i)\n",
        "\n",
        "  # Repeat p times the problem-dependent and mixer circuits\n",
        "  for i in range(0,p):\n",
        "    # Problem-dependent circuit\n",
        "    for l,k in G.edges():\n",
        "      circuit.rzz(2 * gamma[i],l,k)\n",
        "\n",
        "    # Mixer circuit\n",
        "    for qbit in range(0,nqubits):\n",
        "      circuit.rx(2 * beta[i], qbit)\n",
        "\n",
        "  # Measure all qubits to sample a solution\n",
        "  circuit.measure_all()\n",
        "\n",
        "  return circuit"
      ],
      "metadata": {
        "id": "yuglY2bqn9T3"
      },
      "execution_count": null,
      "outputs": []
    },
    {
      "cell_type": "markdown",
      "source": [
        "We prepare a runtime environment (simulated in this case) and we prepare a function to run the circuit in that environment. This function will later be useful to get the results once the classic algorithm has optimized the parameters of the circuit."
      ],
      "metadata": {
        "id": "BeZ7LPySpu2m"
      }
    },
    {
      "cell_type": "code",
      "source": [
        "env = Aer.get_backend('qasm_simulator')\n",
        "\n",
        "def run_circuit(G, theta, shots=1000):\n",
        "    circuit = get_circuit(G, theta)\n",
        "    histogram = env.run(circuit, nshots=shots).result().get_counts()\n",
        "    return histogram"
      ],
      "metadata": {
        "id": "Rx86vcLdzEKZ"
      },
      "execution_count": null,
      "outputs": []
    },
    {
      "cell_type": "markdown",
      "source": [
        "The objective function must run the quantum circuit several times and compute the average value of the objective function for the solutions sampled in different runs. We present the objective function next. The input parameters are a vector with the decision variables (angles γ and β) and the number of samples to use for the quantum circuit."
      ],
      "metadata": {
        "id": "osEpHw5E1Hnv"
      }
    },
    {
      "cell_type": "code",
      "source": [
        "def objective_function(G, shots=1000):\n",
        "\n",
        "  def count_crossing_edges(solution):\n",
        "    crossing_edges = 0\n",
        "    for i,j in G.edges():\n",
        "      if solution[i] != solution[j]:\n",
        "        crossing_edges += 1\n",
        "    return crossing_edges\n",
        "\n",
        "  def run_average_computation(theta):\n",
        "    histogram = run_circuit(G, theta, shots)\n",
        "\n",
        "    sum = 0\n",
        "    runs = 0\n",
        "    for solucion, times in histogram.items():\n",
        "      # The solution is inverted (the most significant bit first)\n",
        "      crossing_edges = count_crossing_edges(solution[::-1])\n",
        "      sum += crossing_edges * times\n",
        "      runs += times\n",
        "\n",
        "    return -sum/runs\n",
        "\n",
        "  return run_average_computation\n"
      ],
      "metadata": {
        "id": "EUuM_JtUqe8V"
      },
      "execution_count": null,
      "outputs": []
    },
    {
      "cell_type": "markdown",
      "source": [
        "We use a classic optimization algorithm to solve the problem. We use COBYLA in SciPy."
      ],
      "metadata": {
        "id": "GpV-8mVmt5kW"
      }
    },
    {
      "cell_type": "code",
      "source": [
        "def optimize(G):\n",
        "  objective = objective_function(G)\n",
        "  return minimize(objective,[1.0,1.0,1.0,1.0], method='COBYLA')\n"
      ],
      "metadata": {
        "id": "75PiNO8EuuB3"
      },
      "execution_count": null,
      "outputs": []
    },
    {
      "cell_type": "markdown",
      "source": [
        "Let's try the algorithm in a graph with 5 vertices and 6 edges."
      ],
      "metadata": {
        "id": "RrCyisyAvPKy"
      }
    },
    {
      "cell_type": "code",
      "source": [
        "G = Graph()\n",
        "G.add_nodes_from([0,1,2,3,4])\n",
        "G.add_edges_from([(0,1),(0,3),(1,3),(1,2),(2,4),(3,4)])\n",
        "draw(G, with_labels=True)"
      ],
      "metadata": {
        "id": "oP8kMvzguBzL"
      },
      "execution_count": null,
      "outputs": []
    },
    {
      "cell_type": "markdown",
      "source": [
        "We apply QAOA to find the optimal parameters for the circuit."
      ],
      "metadata": {
        "id": "7MxpnYHuwctV"
      }
    },
    {
      "cell_type": "code",
      "source": [
        "result = optimize(G)\n",
        "print(result)"
      ],
      "metadata": {
        "id": "HIkwS8whwcU0"
      },
      "execution_count": null,
      "outputs": []
    },
    {
      "cell_type": "code",
      "source": [
        "histogram = run_circuit(G, result.x)\n",
        "plot_histogram(histogram)"
      ],
      "metadata": {
        "id": "UXkl5TTKz3KH"
      },
      "execution_count": null,
      "outputs": []
    }
  ]
}